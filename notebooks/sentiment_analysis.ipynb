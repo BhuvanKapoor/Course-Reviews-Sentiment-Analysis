{
 "cells": [
  {
   "cell_type": "markdown",
   "metadata": {},
   "source": [
    "# Course Reviews Sentiment Analysis\n",
    "\n",
    "This notebook performs sentiment analysis on course reviews using:\n",
    "1. VADER (Rule-based sentiment analysis)\n",
    "2. Transformer-based analysis (using DistilBERT)"
   ]
  },
  {
   "cell_type": "code",
   "execution_count": 1,
   "metadata": {},
   "outputs": [
    {
     "name": "stderr",
     "output_type": "stream",
     "text": [
      "[nltk_data] Downloading package vader_lexicon to\n",
      "[nltk_data]     C:\\Users\\bhuva\\AppData\\Roaming\\nltk_data...\n",
      "[nltk_data]   Package vader_lexicon is already up-to-date!\n",
      "[nltk_data] Downloading package punkt to\n",
      "[nltk_data]     C:\\Users\\bhuva\\AppData\\Roaming\\nltk_data...\n",
      "[nltk_data]   Package punkt is already up-to-date!\n"
     ]
    },
    {
     "data": {
      "text/plain": [
       "True"
      ]
     },
     "execution_count": 1,
     "metadata": {},
     "output_type": "execute_result"
    }
   ],
   "source": [
    "import pandas as pd\n",
    "import numpy as np\n",
    "import matplotlib.pyplot as plt\n",
    "import seaborn as sns\n",
    "from nltk.sentiment import SentimentIntensityAnalyzer\n",
    "import nltk\n",
    "from transformers import pipeline, AutoTokenizer, AutoModelForSequenceClassification\n",
    "import re\n",
    "from tqdm import tqdm\n",
    "import warnings\n",
    "warnings.filterwarnings('ignore')  \n",
    "nltk.download('vader_lexicon')\n",
    "nltk.download('punkt')"
   ]
  },
  {
   "cell_type": "code",
   "execution_count": 2,
   "metadata": {},
   "outputs": [
    {
     "data": {
      "text/html": [
       "<div>\n",
       "<style scoped>\n",
       "    .dataframe tbody tr th:only-of-type {\n",
       "        vertical-align: middle;\n",
       "    }\n",
       "\n",
       "    .dataframe tbody tr th {\n",
       "        vertical-align: top;\n",
       "    }\n",
       "\n",
       "    .dataframe thead th {\n",
       "        text-align: right;\n",
       "    }\n",
       "</style>\n",
       "<table border=\"1\" class=\"dataframe\">\n",
       "  <thead>\n",
       "    <tr style=\"text-align: right;\">\n",
       "      <th></th>\n",
       "      <th>course_name</th>\n",
       "      <th>lecture_name</th>\n",
       "      <th>review_rating</th>\n",
       "      <th>review_comment</th>\n",
       "    </tr>\n",
       "  </thead>\n",
       "  <tbody>\n",
       "    <tr>\n",
       "      <th>0</th>\n",
       "      <td>Advanced Microsoft Excel</td>\n",
       "      <td>F1 to F12 - Using Excel's Function Keys</td>\n",
       "      <td>5</td>\n",
       "      <td>perfect</td>\n",
       "    </tr>\n",
       "    <tr>\n",
       "      <th>1</th>\n",
       "      <td>Agile and Scrum Project Management</td>\n",
       "      <td>Agile vs Waterfall - Conclusions</td>\n",
       "      <td>1</td>\n",
       "      <td>The SCRUM chapter are full of errors</td>\n",
       "    </tr>\n",
       "    <tr>\n",
       "      <th>2</th>\n",
       "      <td>AI Applications for Business Success</td>\n",
       "      <td>Correlation vs. Causation</td>\n",
       "      <td>3</td>\n",
       "      <td>Bad quality of audio and narrative</td>\n",
       "    </tr>\n",
       "    <tr>\n",
       "      <th>3</th>\n",
       "      <td>AI Applications for Business Success</td>\n",
       "      <td>Correlation vs. Causation</td>\n",
       "      <td>3</td>\n",
       "      <td>I need documentation about lecture.</td>\n",
       "    </tr>\n",
       "    <tr>\n",
       "      <th>4</th>\n",
       "      <td>Building a 3-Statement Model in Excel</td>\n",
       "      <td>Calculating Cash Flows and Completing the Mode...</td>\n",
       "      <td>5</td>\n",
       "      <td>Great course! Ned has a talent for explaining ...</td>\n",
       "    </tr>\n",
       "  </tbody>\n",
       "</table>\n",
       "</div>"
      ],
      "text/plain": [
       "                             course_name  \\\n",
       "0               Advanced Microsoft Excel   \n",
       "1     Agile and Scrum Project Management   \n",
       "2   AI Applications for Business Success   \n",
       "3   AI Applications for Business Success   \n",
       "4  Building a 3-Statement Model in Excel   \n",
       "\n",
       "                                        lecture_name  review_rating  \\\n",
       "0            F1 to F12 - Using Excel's Function Keys              5   \n",
       "1                   Agile vs Waterfall - Conclusions              1   \n",
       "2                          Correlation vs. Causation              3   \n",
       "3                          Correlation vs. Causation              3   \n",
       "4  Calculating Cash Flows and Completing the Mode...              5   \n",
       "\n",
       "                                      review_comment  \n",
       "0                                           perfect   \n",
       "1               The SCRUM chapter are full of errors  \n",
       "2                Bad quality of audio and narrative   \n",
       "3                I need documentation about lecture.  \n",
       "4  Great course! Ned has a talent for explaining ...  "
      ]
     },
     "execution_count": 2,
     "metadata": {},
     "output_type": "execute_result"
    }
   ],
   "source": [
    "df = pd.read_csv('data/user_courses_review_test_set.csv')\n",
    "df.head()"
   ]
  },
  {
   "cell_type": "code",
   "execution_count": 3,
   "metadata": {},
   "outputs": [
    {
     "data": {
      "text/plain": [
       "(154, 4)"
      ]
     },
     "execution_count": 3,
     "metadata": {},
     "output_type": "execute_result"
    }
   ],
   "source": [
    "df.shape"
   ]
  },
  {
   "cell_type": "code",
   "execution_count": 4,
   "metadata": {},
   "outputs": [
    {
     "name": "stdout",
     "output_type": "stream",
     "text": [
      "<class 'pandas.core.frame.DataFrame'>\n",
      "RangeIndex: 154 entries, 0 to 153\n",
      "Data columns (total 4 columns):\n",
      " #   Column          Non-Null Count  Dtype \n",
      "---  ------          --------------  ----- \n",
      " 0   course_name     154 non-null    object\n",
      " 1   lecture_name    154 non-null    object\n",
      " 2   review_rating   154 non-null    int64 \n",
      " 3   review_comment  150 non-null    object\n",
      "dtypes: int64(1), object(3)\n",
      "memory usage: 4.9+ KB\n"
     ]
    }
   ],
   "source": [
    "df.info()"
   ]
  },
  {
   "cell_type": "code",
   "execution_count": 5,
   "metadata": {},
   "outputs": [
    {
     "name": "stdout",
     "output_type": "stream",
     "text": [
      "Rating distribution:\n"
     ]
    },
    {
     "data": {
      "text/plain": [
       "review_rating\n",
       "1      3\n",
       "2      1\n",
       "3     11\n",
       "4     18\n",
       "5    121\n",
       "Name: count, dtype: int64"
      ]
     },
     "metadata": {},
     "output_type": "display_data"
    },
    {
     "data": {
      "image/png": "[encoded data removed]",
      "text/plain": [
       "<Figure size 1000x600 with 1 Axes>"
      ]
     },
     "metadata": {},
     "output_type": "display_data"
    }
   ],
   "source": [
    "# Analyze ratings distribution\n",
    "print(\"Rating distribution:\")\n",
    "rating_dist = df['review_rating'].value_counts().sort_index()\n",
    "display(rating_dist)\n",
    "\n",
    "# Visualize rating distribution\n",
    "plt.figure(figsize=(10, 6))\n",
    "sns.histplot(data=df, x='review_rating', bins=5)\n",
    "plt.title('Distribution of Review Ratings')\n",
    "plt.xlabel('Rating')\n",
    "plt.ylabel('Count')\n",
    "plt.show()\n"
   ]
  },
  {
   "cell_type": "code",
   "execution_count": 6,
   "metadata": {},
   "outputs": [
    {
     "name": "stdout",
     "output_type": "stream",
     "text": [
      "\n",
      "Course-wise ratings:\n"
     ]
    },
    {
     "data": {
      "text/html": [
       "<div>\n",
       "<style scoped>\n",
       "    .dataframe tbody tr th:only-of-type {\n",
       "        vertical-align: middle;\n",
       "    }\n",
       "\n",
       "    .dataframe tbody tr th {\n",
       "        vertical-align: top;\n",
       "    }\n",
       "\n",
       "    .dataframe thead th {\n",
       "        text-align: right;\n",
       "    }\n",
       "</style>\n",
       "<table border=\"1\" class=\"dataframe\">\n",
       "  <thead>\n",
       "    <tr style=\"text-align: right;\">\n",
       "      <th></th>\n",
       "      <th>mean</th>\n",
       "      <th>count</th>\n",
       "    </tr>\n",
       "    <tr>\n",
       "      <th>course_name</th>\n",
       "      <th></th>\n",
       "      <th></th>\n",
       "    </tr>\n",
       "  </thead>\n",
       "  <tbody>\n",
       "    <tr>\n",
       "      <th>Advanced Microsoft Excel</th>\n",
       "      <td>5.000000</td>\n",
       "      <td>1</td>\n",
       "    </tr>\n",
       "    <tr>\n",
       "      <th>Building a 3-Statement Model in Excel</th>\n",
       "      <td>5.000000</td>\n",
       "      <td>1</td>\n",
       "    </tr>\n",
       "    <tr>\n",
       "      <th>Corporate Strategy</th>\n",
       "      <td>5.000000</td>\n",
       "      <td>1</td>\n",
       "    </tr>\n",
       "    <tr>\n",
       "      <th>Convolutional Neural Networks with TensorFlow in Python</th>\n",
       "      <td>5.000000</td>\n",
       "      <td>2</td>\n",
       "    </tr>\n",
       "    <tr>\n",
       "      <th>Python for Social Media Analytics</th>\n",
       "      <td>5.000000</td>\n",
       "      <td>1</td>\n",
       "    </tr>\n",
       "    <tr>\n",
       "      <th>The Complete Data Visualization Course with Python, R, Tableau, and Excel</th>\n",
       "      <td>5.000000</td>\n",
       "      <td>2</td>\n",
       "    </tr>\n",
       "    <tr>\n",
       "      <th>Customer Analytics in Python</th>\n",
       "      <td>5.000000</td>\n",
       "      <td>1</td>\n",
       "    </tr>\n",
       "    <tr>\n",
       "      <th>Data Analysis with Excel Pivot Tables</th>\n",
       "      <td>5.000000</td>\n",
       "      <td>1</td>\n",
       "    </tr>\n",
       "    <tr>\n",
       "      <th>How to Think Like a Data Scientist to Become One</th>\n",
       "      <td>5.000000</td>\n",
       "      <td>2</td>\n",
       "    </tr>\n",
       "    <tr>\n",
       "      <th>Introduction to Python</th>\n",
       "      <td>5.000000</td>\n",
       "      <td>6</td>\n",
       "    </tr>\n",
       "    <tr>\n",
       "      <th>Time Series Analysis with Python</th>\n",
       "      <td>5.000000</td>\n",
       "      <td>1</td>\n",
       "    </tr>\n",
       "    <tr>\n",
       "      <th>Who Does What in Finance</th>\n",
       "      <td>5.000000</td>\n",
       "      <td>4</td>\n",
       "    </tr>\n",
       "    <tr>\n",
       "      <th>Power BI</th>\n",
       "      <td>5.000000</td>\n",
       "      <td>2</td>\n",
       "    </tr>\n",
       "    <tr>\n",
       "      <th>Mathematics</th>\n",
       "      <td>5.000000</td>\n",
       "      <td>1</td>\n",
       "    </tr>\n",
       "    <tr>\n",
       "      <th>Python Programmer Bootcamp</th>\n",
       "      <td>5.000000</td>\n",
       "      <td>2</td>\n",
       "    </tr>\n",
       "    <tr>\n",
       "      <th>Product Management for AI &amp; Data Science</th>\n",
       "      <td>5.000000</td>\n",
       "      <td>1</td>\n",
       "    </tr>\n",
       "    <tr>\n",
       "      <th>Mastering Key Performance Indicators (KPIs)</th>\n",
       "      <td>5.000000</td>\n",
       "      <td>1</td>\n",
       "    </tr>\n",
       "    <tr>\n",
       "      <th>Machine Learning with Ridge and Lasso Regression</th>\n",
       "      <td>5.000000</td>\n",
       "      <td>1</td>\n",
       "    </tr>\n",
       "    <tr>\n",
       "      <th>SQL</th>\n",
       "      <td>4.888889</td>\n",
       "      <td>9</td>\n",
       "    </tr>\n",
       "    <tr>\n",
       "      <th>Introduction to Data and Data Science</th>\n",
       "      <td>4.843137</td>\n",
       "      <td>51</td>\n",
       "    </tr>\n",
       "    <tr>\n",
       "      <th>Statistics</th>\n",
       "      <td>4.666667</td>\n",
       "      <td>9</td>\n",
       "    </tr>\n",
       "    <tr>\n",
       "      <th>Intro to ChatGPT and Generative AI</th>\n",
       "      <td>4.625000</td>\n",
       "      <td>8</td>\n",
       "    </tr>\n",
       "    <tr>\n",
       "      <th>Intro to NLP for AI</th>\n",
       "      <td>4.600000</td>\n",
       "      <td>5</td>\n",
       "    </tr>\n",
       "    <tr>\n",
       "      <th>Data Strategy</th>\n",
       "      <td>4.600000</td>\n",
       "      <td>5</td>\n",
       "    </tr>\n",
       "    <tr>\n",
       "      <th>Data Literacy</th>\n",
       "      <td>4.500000</td>\n",
       "      <td>2</td>\n",
       "    </tr>\n",
       "    <tr>\n",
       "      <th>Introduction to Tableau</th>\n",
       "      <td>4.500000</td>\n",
       "      <td>2</td>\n",
       "    </tr>\n",
       "    <tr>\n",
       "      <th>Introduction to Jupyter</th>\n",
       "      <td>4.428571</td>\n",
       "      <td>7</td>\n",
       "    </tr>\n",
       "    <tr>\n",
       "      <th>Introduction to Excel</th>\n",
       "      <td>4.400000</td>\n",
       "      <td>10</td>\n",
       "    </tr>\n",
       "    <tr>\n",
       "      <th>Probability</th>\n",
       "      <td>4.250000</td>\n",
       "      <td>4</td>\n",
       "    </tr>\n",
       "    <tr>\n",
       "      <th>Data Cleaning and Preprocessing with pandas</th>\n",
       "      <td>4.000000</td>\n",
       "      <td>1</td>\n",
       "    </tr>\n",
       "    <tr>\n",
       "      <th>Project Management</th>\n",
       "      <td>4.000000</td>\n",
       "      <td>1</td>\n",
       "    </tr>\n",
       "    <tr>\n",
       "      <th>Intermediate Python Programming</th>\n",
       "      <td>3.666667</td>\n",
       "      <td>3</td>\n",
       "    </tr>\n",
       "    <tr>\n",
       "      <th>The Machine Learning Process A-Z</th>\n",
       "      <td>3.500000</td>\n",
       "      <td>2</td>\n",
       "    </tr>\n",
       "    <tr>\n",
       "      <th>AI Applications for Business Success</th>\n",
       "      <td>3.000000</td>\n",
       "      <td>2</td>\n",
       "    </tr>\n",
       "    <tr>\n",
       "      <th>Agile and Scrum Project Management</th>\n",
       "      <td>1.000000</td>\n",
       "      <td>1</td>\n",
       "    </tr>\n",
       "    <tr>\n",
       "      <th>Web Scraping and API Fundamentals in Python</th>\n",
       "      <td>1.000000</td>\n",
       "      <td>1</td>\n",
       "    </tr>\n",
       "  </tbody>\n",
       "</table>\n",
       "</div>"
      ],
      "text/plain": [
       "                                                        mean  count\n",
       "course_name                                                        \n",
       "Advanced Microsoft Excel                            5.000000      1\n",
       "Building a 3-Statement Model in Excel               5.000000      1\n",
       "Corporate Strategy                                  5.000000      1\n",
       "Convolutional Neural Networks with TensorFlow i...  5.000000      2\n",
       "Python for Social Media Analytics                   5.000000      1\n",
       "The Complete Data Visualization Course with Pyt...  5.000000      2\n",
       "Customer Analytics in Python                        5.000000      1\n",
       "Data Analysis with Excel Pivot Tables               5.000000      1\n",
       "How to Think Like a Data Scientist to Become One    5.000000      2\n",
       "Introduction to Python                              5.000000      6\n",
       "Time Series Analysis with Python                    5.000000      1\n",
       "Who Does What in Finance                            5.000000      4\n",
       "Power BI                                            5.000000      2\n",
       "Mathematics                                         5.000000      1\n",
       "Python Programmer Bootcamp                          5.000000      2\n",
       "Product Management for AI & Data Science            5.000000      1\n",
       "Mastering Key Performance Indicators (KPIs)         5.000000      1\n",
       "Machine Learning with Ridge and Lasso Regression    5.000000      1\n",
       "SQL                                                 4.888889      9\n",
       "Introduction to Data and Data Science               4.843137     51\n",
       "Statistics                                          4.666667      9\n",
       "Intro to ChatGPT and Generative AI                  4.625000      8\n",
       "Intro to NLP for AI                                 4.600000      5\n",
       "Data Strategy                                       4.600000      5\n",
       "Data Literacy                                       4.500000      2\n",
       "Introduction to Tableau                             4.500000      2\n",
       "Introduction to Jupyter                             4.428571      7\n",
       "Introduction to Excel                               4.400000     10\n",
       "Probability                                         4.250000      4\n",
       "Data Cleaning and Preprocessing with pandas         4.000000      1\n",
       "Project Management                                  4.000000      1\n",
       "Intermediate Python Programming                     3.666667      3\n",
       "The Machine Learning Process A-Z                    3.500000      2\n",
       "AI Applications for Business Success                3.000000      2\n",
       "Agile and Scrum Project Management                  1.000000      1\n",
       "Web Scraping and API Fundamentals in Python         1.000000      1"
      ]
     },
     "metadata": {},
     "output_type": "display_data"
    }
   ],
   "source": [
    "# Course-wise analysis\n",
    "course_ratings = df.groupby('course_name')['review_rating'].agg(['mean', 'count']).sort_values('mean', ascending=False)\n",
    "print(\"\\nCourse-wise ratings:\")\n",
    "display(course_ratings)"
   ]
  },
  {
   "cell_type": "code",
   "execution_count": 7,
   "metadata": {},
   "outputs": [],
   "source": [
    "def preprocess_text(text):\n",
    "    \"\"\"Clean and preprocess text data.\"\"\"\n",
    "    if pd.isna(text):\n",
    "        return \"\"\n",
    "    text = str(text).lower()\n",
    "    text = re.sub(r'[^a-zA-Z\\s]', '', text)\n",
    "    return text.strip()"
   ]
  },
  {
   "cell_type": "code",
   "execution_count": 8,
   "metadata": {},
   "outputs": [
    {
     "data": {
      "text/html": [
       "<div>\n",
       "<style scoped>\n",
       "    .dataframe tbody tr th:only-of-type {\n",
       "        vertical-align: middle;\n",
       "    }\n",
       "\n",
       "    .dataframe tbody tr th {\n",
       "        vertical-align: top;\n",
       "    }\n",
       "\n",
       "    .dataframe thead th {\n",
       "        text-align: right;\n",
       "    }\n",
       "</style>\n",
       "<table border=\"1\" class=\"dataframe\">\n",
       "  <thead>\n",
       "    <tr style=\"text-align: right;\">\n",
       "      <th></th>\n",
       "      <th>Original</th>\n",
       "      <th>Processed</th>\n",
       "    </tr>\n",
       "  </thead>\n",
       "  <tbody>\n",
       "    <tr>\n",
       "      <th>0</th>\n",
       "      <td>perfect</td>\n",
       "      <td>perfect</td>\n",
       "    </tr>\n",
       "    <tr>\n",
       "      <th>1</th>\n",
       "      <td>The SCRUM chapter are full of errors</td>\n",
       "      <td>the scrum chapter are full of errors</td>\n",
       "    </tr>\n",
       "    <tr>\n",
       "      <th>2</th>\n",
       "      <td>Bad quality of audio and narrative</td>\n",
       "      <td>bad quality of audio and narrative</td>\n",
       "    </tr>\n",
       "    <tr>\n",
       "      <th>3</th>\n",
       "      <td>I need documentation about lecture.</td>\n",
       "      <td>i need documentation about lecture</td>\n",
       "    </tr>\n",
       "    <tr>\n",
       "      <th>4</th>\n",
       "      <td>Great course! Ned has a talent for explaining ...</td>\n",
       "      <td>great course ned has a talent for explaining t...</td>\n",
       "    </tr>\n",
       "  </tbody>\n",
       "</table>\n",
       "</div>"
      ],
      "text/plain": [
       "                                            Original  \\\n",
       "0                                           perfect    \n",
       "1               The SCRUM chapter are full of errors   \n",
       "2                Bad quality of audio and narrative    \n",
       "3                I need documentation about lecture.   \n",
       "4  Great course! Ned has a talent for explaining ...   \n",
       "\n",
       "                                           Processed  \n",
       "0                                            perfect  \n",
       "1               the scrum chapter are full of errors  \n",
       "2                 bad quality of audio and narrative  \n",
       "3                 i need documentation about lecture  \n",
       "4  great course ned has a talent for explaining t...  "
      ]
     },
     "metadata": {},
     "output_type": "display_data"
    }
   ],
   "source": [
    "# Apply preprocessing\n",
    "df['processed_comment'] = df['review_comment'].apply(preprocess_text)\n",
    "\n",
    "# Show sample of processed text\n",
    "display(pd.DataFrame({\n",
    "    'Original': df['review_comment'].head(),\n",
    "    'Processed': df['processed_comment'].head()\n",
    "}))"
   ]
  },
  {
   "cell_type": "markdown",
   "metadata": {},
   "source": [
    "## Sentiment Analysis using VADER"
   ]
  },
  {
   "cell_type": "code",
   "execution_count": 9,
   "metadata": {},
   "outputs": [
    {
     "name": "stdout",
     "output_type": "stream",
     "text": [
      "🔄 Performing VADER sentiment analysis...\n"
     ]
    },
    {
     "name": "stderr",
     "output_type": "stream",
     "text": [
      "Analyzing sentiments: 100%|██████████| 154/154 [00:00<00:00, 2666.79it/s]\n"
     ]
    },
    {
     "data": {
      "image/png": "[encoded data removed]",
      "text/plain": [
       "<Figure size 1000x600 with 1 Axes>"
      ]
     },
     "metadata": {},
     "output_type": "display_data"
    }
   ],
   "source": [
    "# Initialize VADER sentiment analyzer\n",
    "print(\"🔄 Performing VADER sentiment analysis...\")\n",
    "sia = SentimentIntensityAnalyzer()\n",
    "\n",
    "def get_sentiment_scores(text):\n",
    "    \"\"\"Get sentiment scores using VADER.\"\"\"\n",
    "    if pd.isna(text) or text == \"\":\n",
    "        return 0\n",
    "    return sia.polarity_scores(text)['compound']\n",
    "\n",
    "# Apply sentiment analysis with progress bar\n",
    "tqdm.pandas(desc=\"Analyzing sentiments\")\n",
    "df['sentiment_score'] = df['review_comment'].progress_apply(get_sentiment_scores)\n",
    "\n",
    "# Visualize sentiment distribution\n",
    "plt.figure(figsize=(10, 6))\n",
    "sns.histplot(data=df, x='sentiment_score', bins=20)\n",
    "plt.title('Distribution of Sentiment Scores')\n",
    "plt.xlabel('Sentiment Score')\n",
    "plt.ylabel('Count')\n",
    "plt.show()"
   ]
  },
  {
   "cell_type": "markdown",
   "metadata": {},
   "source": [
    "## Sentiment Analysis using Transformers"
   ]
  },
  {
   "cell_type": "code",
   "execution_count": 10,
   "metadata": {},
   "outputs": [],
   "source": [
    "# Initialize transformer pipeline\n",
    "model_name = \"distilbert-base-uncased-finetuned-sst-2-english\"\n",
    "tokenizer = AutoTokenizer.from_pretrained(model_name)\n",
    "model = AutoModelForSequenceClassification.from_pretrained(model_name)\n",
    "sentiment_pipeline = pipeline('sentiment-analysis', model=model, tokenizer=tokenizer)"
   ]
  },
  {
   "cell_type": "code",
   "execution_count": 11,
   "metadata": {},
   "outputs": [],
   "source": [
    "def get_transformer_sentiment(text):\n",
    "    \"\"\"Get sentiment using transformer model.\"\"\"\n",
    "    if pd.isna(text) or text == \"\":\n",
    "        return 'NEUTRAL'\n",
    "    tokens = tokenizer(text, truncation=True, max_length=512)\n",
    "    result = sentiment_pipeline(text)[0]\n",
    "    return result['label']"
   ]
  },
  {
   "cell_type": "code",
   "execution_count": 12,
   "metadata": {},
   "outputs": [
    {
     "name": "stderr",
     "output_type": "stream",
     "text": [
      "Analyzing with transformer: 100%|██████████| 100/100 [00:05<00:00, 18.69it/s]\n"
     ]
    }
   ],
   "source": [
    "# Analyze a sample of the data\n",
    "sample_size = min(100, len(df))\n",
    "df_sample = df.head(sample_size).copy()\n",
    "tqdm.pandas(desc=\"Analyzing with transformer\")\n",
    "df_sample['transformer_sentiment'] = df_sample['review_comment'].progress_apply(get_transformer_sentiment)"
   ]
  },
  {
   "cell_type": "code",
   "execution_count": 13,
   "metadata": {},
   "outputs": [
    {
     "data": {
      "text/plain": [
       "transformer_sentiment\n",
       "POSITIVE    87\n",
       "NEGATIVE     9\n",
       "NEUTRAL      4\n",
       "Name: count, dtype: int64"
      ]
     },
     "metadata": {},
     "output_type": "display_data"
    }
   ],
   "source": [
    "display(df_sample['transformer_sentiment'].value_counts())"
   ]
  },
  {
   "cell_type": "code",
   "execution_count": 14,
   "metadata": {},
   "outputs": [
    {
     "data": {
      "image/png": "[encoded data removed]",
      "text/plain": [
       "<Figure size 1000x600 with 1 Axes>"
      ]
     },
     "metadata": {},
     "output_type": "display_data"
    }
   ],
   "source": [
    "# Calculate correlation\n",
    "correlation = df['review_rating'].corr(df['sentiment_score'])\n",
    "\n",
    "# Visualize relationship\n",
    "plt.figure(figsize=(10, 6))\n",
    "sns.scatterplot(data=df, x='review_rating', y='sentiment_score')\n",
    "plt.title('Review Ratings vs Sentiment Scores')\n",
    "plt.xlabel('Rating')\n",
    "plt.ylabel('Sentiment Score')\n",
    "plt.show()\n"
   ]
  },
  {
   "cell_type": "markdown",
   "metadata": {},
   "source": [
    "## Insights"
   ]
  },
  {
   "cell_type": "code",
   "execution_count": 15,
   "metadata": {},
   "outputs": [
    {
     "name": "stdout",
     "output_type": "stream",
     "text": [
      "Key Insights:\n",
      "1. Rating Distribution: \n",
      "   - Average rating: 4.64 \n",
      "   - Most common rating: 5\n",
      "\n",
      "2. Sentiment Analysis: \n",
      "   - Average sentiment score: 0.46 \n",
      "   - Correlation with ratings: 0.51\n",
      "\n",
      "3. Course Performance: \n",
      "   - Best rated course: Advanced Microsoft Excel \n",
      "   - Most reviewed course: Introduction to Data and Data Science\n"
     ]
    }
   ],
   "source": [
    "# Print insights\n",
    "print(\"Key Insights:\")\n",
    "print(\"1. Rating Distribution:\", \n",
    "      f\"\\n   - Average rating: {df['review_rating'].mean():.2f}\",\n",
    "      f\"\\n   - Most common rating: {df['review_rating'].mode()[0]}\")\n",
    "\n",
    "print(\"\\n2. Sentiment Analysis:\",\n",
    "      f\"\\n   - Average sentiment score: {df['sentiment_score'].mean():.2f}\",\n",
    "      f\"\\n   - Correlation with ratings: {correlation:.2f}\")\n",
    "\n",
    "print(\"\\n3. Course Performance:\",\n",
    "      f\"\\n   - Best rated course: {course_ratings.index[0]}\",\n",
    "      f\"\\n   - Most reviewed course: {course_ratings.sort_values('count', ascending=False).index[0]}\")"
   ]
  }
 ],
 "metadata": {
  "kernelspec": {
   "display_name": ".venv",
   "language": "python",
   "name": "python3"
  },
  "language_info": {
   "codemirror_mode": {
    "name": "ipython",
    "version": 3
   },
   "file_extension": ".py",
   "mimetype": "text/x-python",
   "name": "python",
   "nbconvert_exporter": "python",
   "pygments_lexer": "ipython3",
   "version": "3.11.8"
  }
 },
 "nbformat": 4,
 "nbformat_minor": 4
}
